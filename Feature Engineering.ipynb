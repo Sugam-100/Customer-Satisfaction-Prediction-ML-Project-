{
 "cells": [
  {
   "cell_type": "markdown",
   "id": "c4fa50a0-adff-4a91-b044-d77ecd0452cf",
   "metadata": {},
   "source": [
    "# Feature Engineering"
   ]
  },
  {
   "cell_type": "code",
   "execution_count": 1,
   "id": "23e4dfa4-4176-4fbb-a581-9668f9f69880",
   "metadata": {},
   "outputs": [],
   "source": [
    "import pandas as pd\n",
    "\n",
    "# Load cleaned data\n",
    "data = pd.read_csv(\"cleaned_data.csv\")"
   ]
  },
  {
   "cell_type": "code",
   "execution_count": 2,
   "id": "27b23782-388e-4b11-9f34-52b81ec87bd8",
   "metadata": {},
   "outputs": [
    {
     "name": "stdout",
     "output_type": "stream",
     "text": [
      "✅ Feature Engineering Complete. New dataset saved as 'feature_engineered_data.csv'\n",
      "\n",
      "New Columns Added:\n",
      "['Response_Delay_Hours', 'Resolution_Delay_Hours', 'Age_Group']\n"
     ]
    }
   ],
   "source": [
    "# --- 5.1 Response Delay ---\n",
    "# Difference between first response and purchase time\n",
    "if \"First Response Time\" in data.columns and \"Date of Purchase\" in data.columns:\n",
    "    data[\"Date of Purchase\"] = pd.to_datetime(data[\"Date of Purchase\"])\n",
    "    data[\"First Response Time\"] = pd.to_datetime(data[\"First Response Time\"])\n",
    "    data[\"Response_Delay_Hours\"] = (data[\"First Response Time\"] - data[\"Date of Purchase\"]).dt.total_seconds() / 3600\n",
    "\n",
    "# --- 5.2 Resolution Delay ---\n",
    "# Difference between resolution and first response\n",
    "if \"Time to Resolution\" in data.columns and \"First Response Time\" in data.columns:\n",
    "    data[\"Time to Resolution\"] = pd.to_datetime(data[\"Time to Resolution\"])\n",
    "    data[\"Resolution_Delay_Hours\"] = (data[\"Time to Resolution\"] - data[\"First Response Time\"]).dt.total_seconds() / 3600\n",
    "\n",
    "# --- 5.3 Customer Age Group ---\n",
    "if \"Customer Age\" in data.columns:\n",
    "    bins = [0, 20, 30, 40, 50, 60, 70, 100]\n",
    "    labels = [\"0-20\",\"21-30\",\"31-40\",\"41-50\",\"51-60\",\"61-70\",\"70+\"]\n",
    "    data[\"Age_Group\"] = pd.cut(data[\"Customer Age\"], bins=bins, labels=labels)\n",
    "\n",
    "# --- 5.4 Drop High-Text Columns (for now) ---\n",
    "drop_cols = [\"Ticket Description\", \"Ticket Subject\", \"Customer Name\", \"Customer Email\"]\n",
    "data = data.drop(columns=[col for col in drop_cols if col in data.columns])\n",
    "\n",
    "# --- 5.5 Save Feature-Engineered Data ---\n",
    "data.to_csv(\"feature_engineered_data.csv\", index=False)\n",
    "\n",
    "print(\"✅ Feature Engineering Complete. New dataset saved as 'feature_engineered_data.csv'\")\n",
    "print(\"\\nNew Columns Added:\")\n",
    "print([col for col in data.columns if \"Delay\" in col or col == \"Age_Group\"])"
   ]
  },
  {
   "cell_type": "code",
   "execution_count": null,
   "id": "35d02c2e-e6f9-495d-b9df-aedc63685554",
   "metadata": {},
   "outputs": [],
   "source": []
  }
 ],
 "metadata": {
  "kernelspec": {
   "display_name": "Python 3 (ipykernel)",
   "language": "python",
   "name": "python3"
  },
  "language_info": {
   "codemirror_mode": {
    "name": "ipython",
    "version": 3
   },
   "file_extension": ".py",
   "mimetype": "text/x-python",
   "name": "python",
   "nbconvert_exporter": "python",
   "pygments_lexer": "ipython3",
   "version": "3.8.10"
  }
 },
 "nbformat": 4,
 "nbformat_minor": 5
}
