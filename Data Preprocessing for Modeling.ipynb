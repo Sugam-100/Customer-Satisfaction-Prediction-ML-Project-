{
 "cells": [
  {
   "cell_type": "markdown",
   "id": "0e4684fd-2526-4fc0-9731-d28b07e7ace6",
   "metadata": {},
   "source": [
    "# Data Preprocessing for Modeling (Encoding & Scaling)"
   ]
  },
  {
   "cell_type": "code",
   "execution_count": 5,
   "id": "900ce7f3-206d-4b76-b67f-f865e91aadc8",
   "metadata": {},
   "outputs": [
    {
     "name": "stdout",
     "output_type": "stream",
     "text": [
      "✅ Data Preprocessing Complete. New dataset saved as 'preprocessed_data.csv'\n",
      "Final Columns Ready for Modeling:\n",
      "Index(['Customer Age', 'Date of Purchase', 'Ticket Type', 'Ticket Status',\n",
      "       'Resolution', 'Ticket Priority', 'Ticket Channel',\n",
      "       'First Response Time', 'Time to Resolution',\n",
      "       'Customer Satisfaction Rating', 'Purchase_Year', 'Purchase_Month',\n",
      "       'Purchase_Day', 'Response_Delay_Hours', 'Resolution_Delay_Hours',\n",
      "       'Age_Group', 'Customer Gender_1', 'Customer Gender_2',\n",
      "       'Product Purchased_1', 'Product Purchased_2', 'Product Purchased_3',\n",
      "       'Product Purchased_4', 'Product Purchased_5', 'Product Purchased_6',\n",
      "       'Product Purchased_7', 'Product Purchased_8', 'Product Purchased_9',\n",
      "       'Product Purchased_10', 'Product Purchased_11', 'Product Purchased_12',\n",
      "       'Product Purchased_13', 'Product Purchased_14', 'Product Purchased_15',\n",
      "       'Product Purchased_16', 'Product Purchased_17', 'Product Purchased_18',\n",
      "       'Product Purchased_19', 'Product Purchased_20', 'Product Purchased_21',\n",
      "       'Product Purchased_22', 'Product Purchased_23', 'Product Purchased_24',\n",
      "       'Product Purchased_25', 'Product Purchased_26', 'Product Purchased_27',\n",
      "       'Product Purchased_28', 'Product Purchased_29', 'Product Purchased_30',\n",
      "       'Product Purchased_31', 'Product Purchased_32', 'Product Purchased_33',\n",
      "       'Product Purchased_34', 'Product Purchased_35', 'Product Purchased_36',\n",
      "       'Product Purchased_37', 'Product Purchased_38', 'Product Purchased_39',\n",
      "       'Product Purchased_40', 'Product Purchased_41'],\n",
      "      dtype='object')\n"
     ]
    }
   ],
   "source": [
    "import pandas as pd\n",
    "from sklearn.preprocessing import LabelEncoder, StandardScaler\n",
    "\n",
    "# Load feature-engineered dataset\n",
    "data = pd.read_csv(\"Dataset/feature_engineered_data.csv\")\n",
    "\n",
    "# --- 6.1 Encode Categorical Variables ---\n",
    "\n",
    "# Columns to Label Encode (ordinal or categorical without many unique values)\n",
    "label_cols = [\"Ticket Status\", \"Ticket Priority\", \"Ticket Type\", \"Ticket Channel\", \"Age_Group\"]\n",
    "\n",
    "le = LabelEncoder()\n",
    "for col in label_cols:\n",
    "    if col in data.columns:\n",
    "        data[col] = le.fit_transform(data[col].astype(str))\n",
    "\n",
    "# Columns to One-Hot Encode (nominal categories with no order, like Gender & Product Purchased)\n",
    "one_hot_cols = [\"Customer Gender\", \"Product Purchased\"]\n",
    "\n",
    "data = pd.get_dummies(data, columns=[col for col in one_hot_cols if col in data.columns], drop_first=True)\n",
    "\n",
    "# --- 6.2 Scale Numerical Features ---\n",
    "num_cols = [\"Customer Age\", \"Response_Delay_Hours\", \"Resolution_Delay_Hours\"]\n",
    "\n",
    "scaler = StandardScaler()\n",
    "for col in num_cols:\n",
    "    if col in data.columns:\n",
    "        data[col] = scaler.fit_transform(data[[col]])\n",
    "\n",
    "# --- 6.3 Save Final Preprocessed Dataset ---\n",
    "data.to_csv(\"preprocessed_data.csv\", index=False)\n",
    "\n",
    "print(\"✅ Data Preprocessing Complete. New dataset saved as 'preprocessed_data.csv'\")\n",
    "print(\"Final Columns Ready for Modeling:\")\n",
    "print(data.columns)\n"
   ]
  },
  {
   "cell_type": "code",
   "execution_count": null,
   "id": "6b6c06a7-745e-4874-85a9-bdd525b07d67",
   "metadata": {},
   "outputs": [],
   "source": []
  }
 ],
 "metadata": {
  "kernelspec": {
   "display_name": "Python 3 (ipykernel)",
   "language": "python",
   "name": "python3"
  },
  "language_info": {
   "codemirror_mode": {
    "name": "ipython",
    "version": 3
   },
   "file_extension": ".py",
   "mimetype": "text/x-python",
   "name": "python",
   "nbconvert_exporter": "python",
   "pygments_lexer": "ipython3",
   "version": "3.8.10"
  }
 },
 "nbformat": 4,
 "nbformat_minor": 5
}
